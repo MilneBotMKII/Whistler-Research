{
 "cells": [
  {
   "cell_type": "code",
   "execution_count": 1,
   "id": "6fded974",
   "metadata": {},
   "outputs": [],
   "source": [
    "import numpy as np\n",
    "import pandas as pd\n",
    "import glob\n",
    "import datetime\n",
    "import os"
   ]
  },
  {
   "cell_type": "code",
   "execution_count": 5,
   "id": "c16d9d3e",
   "metadata": {},
   "outputs": [
    {
     "data": {
      "text/plain": [
       "['../../oops.csv']"
      ]
     },
     "execution_count": 5,
     "metadata": {},
     "output_type": "execute_result"
    }
   ],
   "source": [
    "glob.glob('../../oops.csv') #This is to find all filtypes with a sp4ecific date"
   ]
  },
  {
   "cell_type": "code",
   "execution_count": 3,
   "id": "3b161aac",
   "metadata": {},
   "outputs": [],
   "source": [
    "Files=glob.glob('../../oops.csv')"
   ]
  },
  {
   "cell_type": "code",
   "execution_count": 6,
   "id": "b931af2a",
   "metadata": {
    "scrolled": true
   },
   "outputs": [
    {
     "ename": "NameError",
     "evalue": "name 'Files' is not defined",
     "output_type": "error",
     "traceback": [
      "\u001b[1;31m---------------------------------------------------------------------------\u001b[0m",
      "\u001b[1;31mNameError\u001b[0m                                 Traceback (most recent call last)",
      "\u001b[1;32m<ipython-input-6-8736f3450fcd>\u001b[0m in \u001b[0;36m<module>\u001b[1;34m\u001b[0m\n\u001b[0;32m     12\u001b[0m \u001b[0mNotes\u001b[0m\u001b[1;33m=\u001b[0m\u001b[1;33m[\u001b[0m\u001b[1;33m]\u001b[0m\u001b[1;33m\u001b[0m\u001b[1;33m\u001b[0m\u001b[0m\n\u001b[0;32m     13\u001b[0m \u001b[1;33m\u001b[0m\u001b[0m\n\u001b[1;32m---> 14\u001b[1;33m \u001b[1;32mfor\u001b[0m \u001b[0mi\u001b[0m \u001b[1;32min\u001b[0m \u001b[0mrange\u001b[0m\u001b[1;33m(\u001b[0m\u001b[0mlen\u001b[0m\u001b[1;33m(\u001b[0m\u001b[0mFiles\u001b[0m\u001b[1;33m)\u001b[0m\u001b[1;33m)\u001b[0m\u001b[1;33m:\u001b[0m\u001b[1;33m\u001b[0m\u001b[1;33m\u001b[0m\u001b[0m\n\u001b[0m\u001b[0;32m     15\u001b[0m     \u001b[0mindex\u001b[0m\u001b[1;33m=\u001b[0m\u001b[0mi\u001b[0m\u001b[1;33m\u001b[0m\u001b[1;33m\u001b[0m\u001b[0m\n\u001b[0;32m     16\u001b[0m     \u001b[0mtemp\u001b[0m\u001b[1;33m=\u001b[0m\u001b[0mpd\u001b[0m\u001b[1;33m.\u001b[0m\u001b[0mread_csv\u001b[0m\u001b[1;33m(\u001b[0m\u001b[0mFiles\u001b[0m\u001b[1;33m[\u001b[0m\u001b[0mindex\u001b[0m\u001b[1;33m]\u001b[0m\u001b[1;33m)\u001b[0m \u001b[1;31m#Read in a CSV file\u001b[0m\u001b[1;33m\u001b[0m\u001b[1;33m\u001b[0m\u001b[0m\n",
      "\u001b[1;31mNameError\u001b[0m: name 'Files' is not defined"
     ]
    }
   ],
   "source": [
    "Mode='Burst'\n",
    "IndexOffset=1029 #use this to make index values line up with previous sets. Set one higher than previous highest set\n",
    "OutputFilename='SmallUpdate'\n",
    "\n",
    "Index = []\n",
    "TimeStart = []\n",
    "TimeEnd = []\n",
    "DConst = []\n",
    "DConstErr = []\n",
    "ModeList = []\n",
    "EvsB=[]\n",
    "Notes=[]\n",
    "\n",
    "for i in range(len(Files)):\n",
    "    index=i\n",
    "    temp=pd.read_csv(Files[index]) #Read in a CSV file\n",
    "\n",
    "    tempE=temp.loc[temp['Species(ordinal)'] == 'E'] #Split all terms with an E or B component into seperate tables\n",
    "    tempB=temp.loc[temp['Species(ordinal)'] == 'B']\n",
    "\n",
    "    tempE=tempE.reset_index() #Needed for later steps\n",
    "    tempB=tempB.reset_index()\n",
    "\n",
    "    timesE=[]\n",
    "    timesB=[]\n",
    "\n",
    "    #This comverts timestrings into usable time values using datetime. Custom format string converts string to units\n",
    "    #Needed because whistlers covering minute/hour/day transitions would throw an error if just looking at seconds unit\n",
    "    for i in range(len(tempE['x(UTC)'])):\n",
    "        timesE.append(datetime.datetime.strptime(tempE['x(UTC)'][i], '%Y-%m-%dT%H:%M:%S.%f'))\n",
    "    for i in range(len(tempB['x(UTC)'])):\n",
    "        timesB.append(datetime.datetime.strptime(tempB['x(UTC)'][i], '%Y-%m-%dT%H:%M:%S.%f'))\n",
    "\n",
    "    #Store Relevant Information\n",
    "    if(timesE != []):\n",
    "        Index.append(index + IndexOffset)\n",
    "        TimeStart.append(datetime.datetime.strftime(min(timesE), '%m/%d/%Y %H:%M:%S.%f'))\n",
    "        TimeEnd.append(datetime.datetime.strftime(max(timesE), '%m/%d/%Y %H:%M:%S.%f'))\n",
    "        DConst.append(tempE['D()'][0])\n",
    "        DConstErr.append(np.sqrt(tempE['D()'][0]))\n",
    "        ModeList.append(Mode)\n",
    "        EvsB.append('Electric')\n",
    "        if(os.path.exists(Files[index][:-4]+'.txt')): #Handling any .txt notes\n",
    "            temp2=open(Files[index][:-4]+'.txt')  #We assume a note has the same filename, it is just a .txt instead of a .csv\n",
    "            Notes.append(temp2.read()) #We read in the file with structure from above and read data, and stick it in Notes\n",
    "            print(Files[index][:-4]+'.txt')\n",
    "            temp2.close()\n",
    "        else:\n",
    "            Notes.append(\" \") #If there is no .txt file, add a blnk space for the note\n",
    "    if(timesB != []):\n",
    "        Index.append(index + IndexOffset)\n",
    "        TimeStart.append(datetime.datetime.strftime(min(timesB), '%m/%d/%Y %H:%M:%S'))\n",
    "        TimeEnd.append(datetime.datetime.strftime(max(timesB), '%m/%d/%Y %H:%M:%S'))\n",
    "        DConst.append(tempB['D()'][0])\n",
    "        DConstErr.append(np.sqrt(tempB['D()'][0]))\n",
    "        ModeList.append(Mode)\n",
    "        EvsB.append('Magnetic')\n",
    "        if(os.path.exists(Files[index][:-4]+'.txt')):\n",
    "            temp2=open(Files[index][:-4]+'.txt')\n",
    "            Notes.append(temp2.read())\n",
    "            temp2.close()\n",
    "        else:\n",
    "            Notes.append(\" \")\n",
    "\n",
    "Main = pd.DataFrame([Index, TimeStart, TimeEnd, DConst, DConstErr, ModeList, EvsB, Notes]) #assemble the data in a table\n",
    "Main = Main.T #Transpose to make the rows columns\n",
    "Main.columns = ['Index', 'Time Start', 'Time End', 'Dispersion Constant', 'Disperson Error', 'Burst/Survey', 'Electric/Magnetic', 'Notes']\n",
    "Main = Main.set_index('Index') #This sets the index of the table to match the assigned indicies we actually want for the data collection\n",
    "Main.to_csv(OutputFilename) #These indcies make no sense for actually working with the data, but match how we save whistlers\n",
    "\n",
    "    #Print off relevant information\n",
    "#     if(timesE != []):\n",
    "#         print('Index: ', index + IndexOffset)\n",
    "#         print('Electric Start: ', min(timesE))\n",
    "#         print('Electric End: ', max(timesE))\n",
    "#         print('Dispersion Constant: ', tempE['D()'][0])\n",
    "#         print('Dispersion Constant Error: ', np.sqrt(tempE['D()'][0]))\n",
    "#         print('Mode: ', Mode)\n",
    "#         print('Electric/Magnetic: ', 'Electric')\n",
    "    \n",
    "#     print('')\n",
    "\n",
    "\n",
    "#     if(timesB!= []):\n",
    "#         print('Index: ', index + IndexOffset)\n",
    "#         print('Magnetic Start: ', min(timesB))\n",
    "#         print('Magnetic End: ', max(timesB))\n",
    "#         print('Dispersion Constant: ', tempB['D()'][0])\n",
    "#         print('Dispersion Constant Error: ', np.sqrt(tempB['D()'][0]))\n",
    "#         print('Mode: ', Mode)\n",
    "#         print('Electric/Magnetic: ', 'Magnetic')\n",
    "        \n",
    "#     print('')"
   ]
  },
  {
   "cell_type": "code",
   "execution_count": 76,
   "id": "4809eaea",
   "metadata": {},
   "outputs": [
    {
     "data": {
      "text/plain": [
       "datetime.datetime(2020, 11, 7, 22, 48, 2, 990937)"
      ]
     },
     "execution_count": 76,
     "metadata": {},
     "output_type": "execute_result"
    }
   ],
   "source": [
    "#datetime.datetime.strptime('2020-11-07T22:48:02.990937', '%Y-%m-%dT%H:%M:%S.%f')\n",
    "#Alright, that should be the timestring format for datetime when reading in"
   ]
  },
  {
   "cell_type": "code",
   "execution_count": 21,
   "id": "d3e27916",
   "metadata": {},
   "outputs": [
    {
     "data": {
      "text/plain": [
       "'05/23/2022 03:11:29'"
      ]
     },
     "execution_count": 21,
     "metadata": {},
     "output_type": "execute_result"
    }
   ],
   "source": [
    "#This converts our datetime object to what we store finally aka what we write out\n",
    "#datetime.datetime.strftime(TimeStart[0], '%m/%d/%Y %H:%M:%S.%f')"
   ]
  },
  {
   "cell_type": "code",
   "execution_count": 15,
   "id": "6e77a492",
   "metadata": {},
   "outputs": [],
   "source": [
    "test='hello.txt'"
   ]
  },
  {
   "cell_type": "code",
   "execution_count": 16,
   "id": "cd519b33",
   "metadata": {},
   "outputs": [
    {
     "data": {
      "text/plain": [
       "'hello'"
      ]
     },
     "execution_count": 16,
     "metadata": {},
     "output_type": "execute_result"
    }
   ],
   "source": [
    "test[:-4]"
   ]
  },
  {
   "cell_type": "code",
   "execution_count": null,
   "id": "053e7822",
   "metadata": {},
   "outputs": [],
   "source": []
  },
  {
   "cell_type": "code",
   "execution_count": 22,
   "id": "d72454d5",
   "metadata": {},
   "outputs": [
    {
     "data": {
      "text/plain": [
       "'WhistlerCSVs/Whistlers_5_20\\\\07-25-2020_NewBurst2_10.txt'"
      ]
     },
     "execution_count": 22,
     "metadata": {},
     "output_type": "execute_result"
    }
   ],
   "source": [
    "Files[1][:-4]+'.txt'"
   ]
  },
  {
   "cell_type": "code",
   "execution_count": 38,
   "id": "9d9c8330",
   "metadata": {},
   "outputs": [
    {
     "data": {
      "text/plain": [
       "'this si some text'"
      ]
     },
     "execution_count": 38,
     "metadata": {},
     "output_type": "execute_result"
    }
   ],
   "source": [
    "temp=open('testing.txt', mode='r')\n",
    "temp.read()"
   ]
  },
  {
   "cell_type": "code",
   "execution_count": null,
   "id": "ad759c48",
   "metadata": {},
   "outputs": [],
   "source": []
  },
  {
   "cell_type": "code",
   "execution_count": null,
   "id": "ab428471",
   "metadata": {},
   "outputs": [],
   "source": []
  }
 ],
 "metadata": {
  "kernelspec": {
   "display_name": "Python 3",
   "language": "python",
   "name": "python3"
  },
  "language_info": {
   "codemirror_mode": {
    "name": "ipython",
    "version": 3
   },
   "file_extension": ".py",
   "mimetype": "text/x-python",
   "name": "python",
   "nbconvert_exporter": "python",
   "pygments_lexer": "ipython3",
   "version": "3.8.8"
  }
 },
 "nbformat": 4,
 "nbformat_minor": 5
}
