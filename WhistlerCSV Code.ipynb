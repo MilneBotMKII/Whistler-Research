{
 "cells": [
  {
   "cell_type": "code",
   "execution_count": 31,
   "id": "3b47c946",
   "metadata": {},
   "outputs": [],
   "source": [
    "import numpy as np\n",
    "import pandas as pd\n",
    "import glob\n",
    "import datetime"
   ]
  },
  {
   "cell_type": "code",
   "execution_count": 92,
   "id": "fde512c2",
   "metadata": {},
   "outputs": [
    {
     "data": {
      "text/plain": [
       "['WhistlerCSVs\\\\09-02-2021_1.csv',\n",
       " 'WhistlerCSVs\\\\09-02-2021_2.csv',\n",
       " 'WhistlerCSVs\\\\09-02-2021_3.csv',\n",
       " 'WhistlerCSVs\\\\09-02-2021_4.csv',\n",
       " 'WhistlerCSVs\\\\11-07-2020_1.csv',\n",
       " 'WhistlerCSVs\\\\11-07-2020_2.csv',\n",
       " 'WhistlerCSVs\\\\11-07-2020_3.csv',\n",
       " 'WhistlerCSVs\\\\11-07-2020_4.csv',\n",
       " 'WhistlerCSVs\\\\11-07-2020_5.csv',\n",
       " 'WhistlerCSVs\\\\11-07-2020_6.csv',\n",
       " 'WhistlerCSVs\\\\11-07-2020_7.csv',\n",
       " 'WhistlerCSVs\\\\11-07-2020_8.csv',\n",
       " 'WhistlerCSVs\\\\11-07-2020_9.csv',\n",
       " 'WhistlerCSVs\\\\12-26-2019_1.csv',\n",
       " 'WhistlerCSVs\\\\12-26-2019_10.csv',\n",
       " 'WhistlerCSVs\\\\12-26-2019_11.csv',\n",
       " 'WhistlerCSVs\\\\12-26-2019_12.csv',\n",
       " 'WhistlerCSVs\\\\12-26-2019_13.csv',\n",
       " 'WhistlerCSVs\\\\12-26-2019_14.csv',\n",
       " 'WhistlerCSVs\\\\12-26-2019_2.csv',\n",
       " 'WhistlerCSVs\\\\12-26-2019_3.csv',\n",
       " 'WhistlerCSVs\\\\12-26-2019_4.csv',\n",
       " 'WhistlerCSVs\\\\12-26-2019_5.csv',\n",
       " 'WhistlerCSVs\\\\12-26-2019_6.csv',\n",
       " 'WhistlerCSVs\\\\12-26-2019_7.csv',\n",
       " 'WhistlerCSVs\\\\12-26-2019_8.csv',\n",
       " 'WhistlerCSVs\\\\12-26-2019_9.csv',\n",
       " 'WhistlerCSVs\\\\12-30-2020_1.csv',\n",
       " 'WhistlerCSVs\\\\12-30-2020_2.csv',\n",
       " 'WhistlerCSVs\\\\12-30-2020_3.csv',\n",
       " 'WhistlerCSVs\\\\2-17-2020_1.csv',\n",
       " 'WhistlerCSVs\\\\2-17-2020_10.csv',\n",
       " 'WhistlerCSVs\\\\2-17-2020_11.csv',\n",
       " 'WhistlerCSVs\\\\2-17-2020_12.csv',\n",
       " 'WhistlerCSVs\\\\2-17-2020_13.csv',\n",
       " 'WhistlerCSVs\\\\2-17-2020_2.csv',\n",
       " 'WhistlerCSVs\\\\2-17-2020_3.csv',\n",
       " 'WhistlerCSVs\\\\2-17-2020_4.csv',\n",
       " 'WhistlerCSVs\\\\2-17-2020_5.csv',\n",
       " 'WhistlerCSVs\\\\2-17-2020_6.csv',\n",
       " 'WhistlerCSVs\\\\2-17-2020_7.csv',\n",
       " 'WhistlerCSVs\\\\2-17-2020_8.csv',\n",
       " 'WhistlerCSVs\\\\2-17-2020_9.csv',\n",
       " 'WhistlerCSVs\\\\4-10-2020_1.csv',\n",
       " 'WhistlerCSVs\\\\4-10-2020_2.csv',\n",
       " 'WhistlerCSVs\\\\7-25-2020_1.csv',\n",
       " 'WhistlerCSVs\\\\7-25-2020_2.csv']"
      ]
     },
     "execution_count": 92,
     "metadata": {},
     "output_type": "execute_result"
    }
   ],
   "source": [
    "glob.glob('WhistlerCSVs/*') #This is to find all filtypes with a sp4ecific date"
   ]
  },
  {
   "cell_type": "code",
   "execution_count": 165,
   "id": "ed459742",
   "metadata": {},
   "outputs": [],
   "source": [
    "Mode='Survey'\n",
    "IndexOffset=75 #use this to make index values line up with previous sets. Set one higher than previous highest set\n",
    "OutputFilename='NewSet.csv'\n",
    "\n",
    "Index = []\n",
    "TimeStart = []\n",
    "TimeEnd = []\n",
    "DConst = []\n",
    "DConstErr = []\n",
    "ModeList = []\n",
    "EvsB=[]\n",
    "\n",
    "for i in range(len(Files)):\n",
    "    index=i\n",
    "    temp=pd.read_csv(Files[index]) #Read in a CSV file\n",
    "\n",
    "    tempE=temp.loc[temp['Species(ordinal)'] == 'E'] #Split all terms with an E or B component into seperate tables\n",
    "    tempB=temp.loc[temp['Species(ordinal)'] == 'B']\n",
    "\n",
    "    tempE=tempE.reset_index() #Needed for later steps\n",
    "    tempB=tempB.reset_index()\n",
    "\n",
    "    timesE=[]\n",
    "    timesB=[]\n",
    "\n",
    "    #This comverts timestrings into usable time values using datetime. Custom format string converts string to units\n",
    "    #Needed because whistlers covering minute/hour/day transitions would throw an error if just looking at seconds unit\n",
    "    for i in range(len(tempE['x(UTC)'])):\n",
    "        timesE.append(datetime.datetime.strptime(tempE['x(UTC)'][i], '%Y-%m-%dT%H:%M:%S.%f'))\n",
    "    for i in range(len(tempB['x(UTC)'])):\n",
    "        timesB.append(datetime.datetime.strptime(tempB['x(UTC)'][i], '%Y-%m-%dT%H:%M:%S.%f'))\n",
    "\n",
    "    #Store Relevant Information\n",
    "    if(timesE != []):\n",
    "        Index.append(index + IndexOffset)\n",
    "        TimeStart.append(min(timesE))\n",
    "        TimeEnd.append(max(timesE))\n",
    "        DConst.append(tempE['D()'][0])\n",
    "        DConstErr.append(np.sqrt(tempE['D()'][0]))\n",
    "        ModeList.append(Mode)\n",
    "        EvsB.append('Electric')\n",
    "    if(timesB != []):\n",
    "        Index.append(index + IndexOffset)\n",
    "        TimeStart.append(min(timesB))\n",
    "        TimeEnd.append(max(timesB))\n",
    "        DConst.append(tempB['D()'][0])\n",
    "        DConstErr.append(np.sqrt(tempB['D()'][0]))\n",
    "        ModeList.append(Mode)\n",
    "        EvsB.append('Magnetic')  \n",
    "\n",
    "Main = pd.DataFrame([Index, TimeStart, TimeEnd, DConst, DConstErr, ModeList, EvsB]) #assemble the data in a table\n",
    "Main = Main.T #Transpose to make the rows columns\n",
    "Main.columns = ['Index', 'Time Start', 'Time End', 'Dispersion Constant', 'Disperson Error', 'Burst/Survey', 'Electric/Magnetic']\n",
    "Main = Main.set_index('Index') #This sets the index of the table to match the assigned indicies we actually want for the data collection\n",
    "Main.to_csv(OutputFilename) #These indecies make no sense for actually working with the data, but match how we save whistlers\n",
    "\n",
    "    #Print off relevant information\n",
    "#     if(timesE != []):\n",
    "#         print('Index: ', index + IndexOffset)\n",
    "#         print('Electric Start: ', min(timesE))\n",
    "#         print('Electric End: ', max(timesE))\n",
    "#         print('Dispersion Constant: ', tempE['D()'][0])\n",
    "#         print('Dispersion Constant Error: ', np.sqrt(tempE['D()'][0]))\n",
    "#         print('Mode: ', Mode)\n",
    "#         print('Electric/Magnetic: ', 'Electric')\n",
    "    \n",
    "#     print('')\n",
    "\n",
    "\n",
    "#     if(timesB!= []):\n",
    "#         print('Index: ', index + IndexOffset)\n",
    "#         print('Magnetic Start: ', min(timesB))\n",
    "#         print('Magnetic End: ', max(timesB))\n",
    "#         print('Dispersion Constant: ', tempB['D()'][0])\n",
    "#         print('Dispersion Constant Error: ', np.sqrt(tempB['D()'][0]))\n",
    "#         print('Mode: ', Mode)\n",
    "#         print('Electric/Magnetic: ', 'Magnetic')\n",
    "        \n",
    "#     print('')"
   ]
  },
  {
   "cell_type": "code",
   "execution_count": 76,
   "id": "701bf9a4",
   "metadata": {},
   "outputs": [
    {
     "data": {
      "text/plain": [
       "datetime.datetime(2020, 11, 7, 22, 48, 2, 990937)"
      ]
     },
     "execution_count": 76,
     "metadata": {},
     "output_type": "execute_result"
    }
   ],
   "source": [
    "#datetime.datetime.strptime('2020-11-07T22:48:02.990937', '%Y-%m-%dT%H:%M:%S.%f')\n",
    "#Alright, that should be the timestring format for datetime"
   ]
  }
 ],
 "metadata": {
  "kernelspec": {
   "display_name": "Python 3",
   "language": "python",
   "name": "python3"
  },
  "language_info": {
   "codemirror_mode": {
    "name": "ipython",
    "version": 3
   },
   "file_extension": ".py",
   "mimetype": "text/x-python",
   "name": "python",
   "nbconvert_exporter": "python",
   "pygments_lexer": "ipython3",
   "version": "3.8.8"
  }
 },
 "nbformat": 4,
 "nbformat_minor": 5
}
